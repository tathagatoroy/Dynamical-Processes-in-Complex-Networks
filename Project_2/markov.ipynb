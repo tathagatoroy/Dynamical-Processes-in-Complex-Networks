{
 "cells": [
  {
   "cell_type": "markdown",
   "metadata": {},
   "source": [
    "## Error and Attack Robustness of Time Variant Markovian Networks"
   ]
  },
  {
   "cell_type": "code",
   "execution_count": 2,
   "metadata": {},
   "outputs": [],
   "source": [
    "import networkx as nx\n",
    "import numpy as np\n",
    "import random\n",
    "import math\n",
    "import matplotlib.pyplot as plt"
   ]
  },
  {
   "cell_type": "code",
   "execution_count": 5,
   "metadata": {},
   "outputs": [],
   "source": [
    "class temporal_markov:\n",
    "    \"\"\" handles all functional requirements of a temporal markovian graph \"\"\"\n",
    "    def __init__(self, p, q, num_nodes, average_degree, tau):\n",
    "        self.p = p\n",
    "        self.q = q\n",
    "        self.N = num_nodes\n",
    "        self.average_degree = average_degree\n",
    "        self.initial_edge_probability = average_degree / (self.N - 1)\n",
    "        self.current_timestep = 0\n",
    "        self.Graphs = []    \n",
    "        self.tau = tau\n",
    "        self.initialise_graph()\n",
    "        \n",
    "    def initialise_graph(self):\n",
    "        G = nx.erdos_renyi_graph(self.N, self.initial_edge_probability)\n",
    "        self.Graphs.append(G)\n",
    "    \n",
    "    def update_tick(self):\n",
    "        size = len(self.Graphs)\n",
    "        G = self.Graphs[size - 1]\n",
    "        adj_matrice = np.array(nx.adjacency_matrix(self.G))\n",
    "        l,b = self.adj_matrice\n",
    "        for i in range(l):\n",
    "            for j in range(b):\n",
    "                toss = np.random.uniform(0,1)\n",
    "                if adj_matrice[i,j] == 1:\n",
    "                    if toss > self.P :\n",
    "                        adj_matrice[i,j] = 0\n",
    "                elif adj_matrice[i,j] == 0:\n",
    "                    if toss > self.q :\n",
    "                        adj_matrice[i,j] = 1\n",
    "        self.Graphs.append(nx.from_numpy_matrix(adj_matrice))\n",
    "        self.current_timestep += 1\n",
    "        \n",
    "    \n",
    "    def compute_average_degree(self):\n",
    "        avg_degrees = [0 for i in range(self.N)]\n",
    "        for t in range(self.tau):\n",
    "            g = self.Graphs[t]\n",
    "            degrees = g.degree()\n",
    "            for vertx in range(self.N):\n",
    "                deg = degrees[vertx]\n",
    "                avg_degrees[vertx] += deg\n",
    "        for vx in range(self.N):\n",
    "            avg_degrees[vx] = avg_degrees[vx] / (self.N - 1)\n",
    "            \n",
    "        \n",
    "    \n",
    "    def compute_temporal_distances_and_efficiency(self):\n",
    "        self.temporal_distances = self.zeros((self.N,self.N,self.tau, self.tau))\n",
    "        #td[i,j,t1,t2] = 1 if there exist a temporal path between i,j of size t2 - t1 in the time period t1 and t2 \n",
    "        \n",
    "        #initialize all value with inf \n",
    "        inf = 2 * self.N\n",
    "        self.temporal_distances += inf\n",
    "        \n",
    "        #now for all values td[i,i,t1,t1] = 0 because you can reach to yourself in 0 steps\n",
    "        for i in range(self.N):\n",
    "            for j in range(self.tau):\n",
    "                self.temporal_distances[i,i,j,j] = 0\n",
    "        \n",
    "        for start_time in range(self.tau):\n",
    "            for end_time in range(start_time + 1, self.tau):\n",
    "                #get the adjacency for the current matrix \n",
    "                current_adj = nx.adjacency_matrix(self.Graphs[end_time])\n",
    "                for middle_node in range(self.N):\n",
    "                    for end_node in range(self.N):\n",
    "                        if current_adj[middle_node, end_node] == 1:\n",
    "                            for start_node in range(self.N):\n",
    "                                if self.temporal_distances[start_node, middle_node, start_time, end_time -1] == 1:\n",
    "                                    #you can reach from s to e in end_time - start_time only if there exist a middle such that you can reach from s \n",
    "                                    #in ((end_time - 1) - start_time) such that there a link between middel and end\n",
    "                                    self.temporal_distances[start_node,end_node, start_time, end_time] = 1\n",
    "        \n",
    "        self.temporal_scores = np.zeros((self.N,self.N)) + inf\n",
    "        for node in range(self.N):\n",
    "            self.temporal_scores[node,node] = 0\n",
    "        temporal_efficiency = 0\n",
    "        temporal_closeness = np.zeros((self.N))\n",
    "        for start_node in range(self.N):\n",
    "            for end_node in range(self.N):\n",
    "                for start_time in range(self.tau):\n",
    "                    for end_time in range(self.tau):\n",
    "                        if self.temporal_distances[start_node,end_node,start_time, end_time]:\n",
    "                            self.temporal_scores[start_node, end_node] = min(self.temporal_scores, end_time - start_time)\n",
    "                if start_node != end_node:\n",
    "                    if self.temporal_scores[start_node, end_node] != inf:\n",
    "                        temporal_efficiency += 1 / self.temporal_scores[start_node, end_node]\n",
    "                    temporal_closeness[start_node] += self.temporal_scores[start_node, end_node]\n",
    "        \n",
    "        temporal_closeness = temporal_closeness / (self.N - 1)\n",
    "        \n",
    "        \n",
    "        \n",
    "    \n",
    "\n",
    "        temporal_efficiency = temporal_efficiency / (self.N * (self.N - 1))\n",
    "        return temporal_efficiency, temporal_closeness\n",
    "    \n",
    "                    \n",
    "    \n",
    "            \n",
    "    \n",
    "    \n",
    "    \n",
    "        \n",
    "        "
   ]
  },
  {
   "cell_type": "code",
   "execution_count": 10,
   "metadata": {},
   "outputs": [
    {
     "name": "stdout",
     "output_type": "stream",
     "text": [
      "[(0, 19), (1, 22), (2, 26), (3, 21), (4, 25), (5, 19), (6, 23), (7, 15), (8, 20), (9, 19), (10, 23), (11, 20), (12, 19), (13, 20), (14, 25), (15, 15), (16, 24), (17, 23), (18, 22), (19, 20), (20, 22), (21, 20), (22, 17), (23, 16), (24, 18), (25, 15), (26, 17), (27, 21), (28, 18), (29, 14), (30, 24), (31, 21), (32, 18), (33, 24), (34, 18), (35, 22), (36, 21), (37, 19), (38, 27), (39, 19), (40, 22), (41, 14), (42, 20), (43, 21), (44, 16), (45, 18), (46, 20), (47, 16), (48, 22), (49, 13), (50, 22), (51, 21), (52, 17), (53, 15), (54, 25), (55, 19), (56, 17), (57, 22), (58, 21), (59, 16), (60, 28), (61, 18), (62, 23), (63, 22), (64, 18), (65, 21), (66, 11), (67, 18), (68, 19), (69, 21), (70, 18), (71, 21), (72, 16), (73, 24), (74, 24), (75, 22), (76, 17), (77, 19), (78, 20), (79, 25), (80, 22), (81, 17), (82, 23), (83, 18), (84, 19), (85, 21), (86, 16), (87, 21), (88, 17), (89, 21), (90, 17), (91, 27), (92, 25), (93, 31), (94, 16), (95, 16), (96, 20), (97, 20), (98, 25), (99, 19)]\n"
     ]
    }
   ],
   "source": [
    "r = nx.erdos_renyi_graph(100, 0.2)\n",
    "s = r.degree()\n",
    "print(s)\n"
   ]
  },
  {
   "cell_type": "code",
   "execution_count": 14,
   "metadata": {},
   "outputs": [
    {
     "name": "stdout",
     "output_type": "stream",
     "text": [
      "19 22 26 23 25\n"
     ]
    }
   ],
   "source": [
    "print(s[0], s[1], s[2], s[10],s[98])"
   ]
  }
 ],
 "metadata": {
  "interpreter": {
   "hash": "3579482ea84bf224af7adc3b196563be97e8f2176d9819da0864d1856fef432a"
  },
  "kernelspec": {
   "display_name": "Python 3.7.13 64-bit ('habitat')",
   "language": "python",
   "name": "python3"
  },
  "language_info": {
   "codemirror_mode": {
    "name": "ipython",
    "version": 3
   },
   "file_extension": ".py",
   "mimetype": "text/x-python",
   "name": "python",
   "nbconvert_exporter": "python",
   "pygments_lexer": "ipython3",
   "version": "3.7.13"
  },
  "orig_nbformat": 4
 },
 "nbformat": 4,
 "nbformat_minor": 2
}
